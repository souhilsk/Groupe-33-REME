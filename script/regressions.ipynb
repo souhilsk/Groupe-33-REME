{
 "cells": [
  {
   "cell_type": "code",
   "execution_count": 19,
   "id": "93f2fcd1-4479-402d-bd18-4e5b6bf69c7f",
   "metadata": {},
   "outputs": [
    {
     "name": "stdout",
     "output_type": "stream",
     "text": [
      "                            OLS Regression Results                            \n",
      "==============================================================================\n",
      "Dep. Variable:             crime_rate   R-squared:                       0.990\n",
      "Model:                            OLS   Adj. R-squared:                  0.989\n",
      "Method:                 Least Squares   F-statistic:                     905.7\n",
      "Date:                Mon, 21 Apr 2025   Prob (F-statistic):           5.69e-28\n",
      "Time:                        15:44:09   Log-Likelihood:                -110.35\n",
      "No. Observations:                  32   AIC:                             228.7\n",
      "Df Residuals:                      28   BIC:                             234.6\n",
      "Df Model:                           3                                         \n",
      "Covariance Type:            nonrobust                                         \n",
      "==============================================================================\n",
      "                 coef    std err          t      P>|t|      [0.025      0.975]\n",
      "------------------------------------------------------------------------------\n",
      "Intercept     59.2689      2.876     20.607      0.000      53.377      65.160\n",
      "T            164.4392      4.068     40.427      0.000     156.107     172.771\n",
      "P             -3.0251      4.068     -0.744      0.463     -11.357       5.307\n",
      "T_P          -33.5595      5.752     -5.834      0.000     -45.343     -21.776\n",
      "==============================================================================\n",
      "Omnibus:                       12.787   Durbin-Watson:                   1.702\n",
      "Prob(Omnibus):                  0.002   Jarque-Bera (JB):               23.372\n",
      "Skew:                          -0.730   Prob(JB):                     8.41e-06\n",
      "Kurtosis:                       6.924   Cond. No.                         6.85\n",
      "==============================================================================\n",
      "\n",
      "Notes:\n",
      "[1] Standard Errors assume that the covariance matrix of the errors is correctly specified.\n"
     ]
    }
   ],
   "source": [
    "import pandas as pd\n",
    "import statsmodels.formula.api as smf\n",
    "\n",
    "# === 1. Load cleaned crime rate dataset ===\n",
    "data_path = '/Users/souhil/Desktop/Courses/Recherche Empirique/Data/cleaned_crime_rate_by_nationality.xlsx'\n",
    "df = pd.read_excel(data_path)\n",
    "\n",
    "# === 2. Create DiD variables ===\n",
    "\n",
    "# Treatment group: 1 for Foreigners, 0 for Swiss\n",
    "df['T'] = (df['group'] == 'Foreigner').astype(int)\n",
    "\n",
    "# Post-treatment period: 1 if year >= 2016\n",
    "df['P'] = (df['year'] >= 2016).astype(int)\n",
    "\n",
    "# Interaction term: T × P\n",
    "df['T_P'] = df['T'] * df['P']\n",
    "\n",
    "# === 3. Run the DiD regression ===\n",
    "model = smf.ols(\"crime_rate ~ T + P + T_P\", data=df).fit()\n",
    "\n",
    "# === 4. Display results ===\n",
    "print(model.summary())"
   ]
  },
  {
   "cell_type": "code",
   "execution_count": 20,
   "id": "58cd38cc-bdd3-44c3-b455-60cbfc06d948",
   "metadata": {},
   "outputs": [
    {
     "name": "stdout",
     "output_type": "stream",
     "text": [
      "                            OLS Regression Results                            \n",
      "==============================================================================\n",
      "Dep. Variable:             crime_rate   R-squared:                       0.996\n",
      "Model:                            OLS   Adj. R-squared:                  0.991\n",
      "Method:                 Least Squares   F-statistic:                     209.2\n",
      "Date:                Mon, 21 Apr 2025   Prob (F-statistic):           6.57e-14\n",
      "Time:                        15:44:13   Log-Likelihood:                -95.050\n",
      "No. Observations:                  32   AIC:                             226.1\n",
      "Df Residuals:                      14   BIC:                             252.5\n",
      "Df Model:                          17                                         \n",
      "Covariance Type:            nonrobust                                         \n",
      "=====================================================================================\n",
      "                        coef    std err          t      P>|t|      [0.025      0.975]\n",
      "-------------------------------------------------------------------------------------\n",
      "Intercept           220.5809      5.350     41.232      0.000     209.107     232.055\n",
      "C(group)[T.Swiss]  -164.4392      3.566    -46.107      0.000    -172.089    -156.790\n",
      "C(year)[T.2009]       2.8699      7.133      0.402      0.694     -12.429      18.169\n",
      "C(year)[T.2010]       2.6372      7.133      0.370      0.717     -12.661      17.936\n",
      "C(year)[T.2011]       2.3425      7.133      0.328      0.747     -12.956      17.641\n",
      "C(year)[T.2012]      11.6049      7.133      1.627      0.126      -3.694      26.904\n",
      "C(year)[T.2013]      14.6342      7.133      2.052      0.059      -0.664      29.933\n",
      "C(year)[T.2014]       0.6707      7.133      0.094      0.926     -14.628      15.969\n",
      "C(year)[T.2015]      -9.7417      7.133     -1.366      0.194     -25.040       5.557\n",
      "C(year)[T.2016]       5.0579      7.566      0.669      0.515     -11.169      21.285\n",
      "C(year)[T.2017]       5.9048      7.566      0.780      0.448     -10.322      22.131\n",
      "C(year)[T.2018]      -0.6737      7.566     -0.089      0.930     -16.900      15.553\n",
      "C(year)[T.2019]       0.4029      7.566      0.053      0.958     -15.824      16.630\n",
      "C(year)[T.2020]      -0.1772      7.566     -0.023      0.982     -16.404      16.049\n",
      "C(year)[T.2021]       2.1844      7.566      0.289      0.777     -14.042      18.411\n",
      "C(year)[T.2022]      -1.0761      7.566     -0.142      0.889     -17.303      15.151\n",
      "C(year)[T.2023]     -10.8066      7.566     -1.428      0.175     -27.033       5.420\n",
      "T_P                 -33.5595      5.044     -6.654      0.000     -44.377     -22.742\n",
      "==============================================================================\n",
      "Omnibus:                        4.526   Durbin-Watson:                   3.068\n",
      "Prob(Omnibus):                  0.104   Jarque-Bera (JB):                4.355\n",
      "Skew:                          -0.000   Prob(JB):                        0.113\n",
      "Kurtosis:                       4.807   Cond. No.                         20.1\n",
      "==============================================================================\n",
      "\n",
      "Notes:\n",
      "[1] Standard Errors assume that the covariance matrix of the errors is correctly specified.\n"
     ]
    }
   ],
   "source": [
    "import pandas as pd\n",
    "import statsmodels.formula.api as smf\n",
    "\n",
    "# === 1. Load your cleaned dataset ===\n",
    "data_path = '/Users/souhil/Desktop/Courses/Recherche Empirique/Data/cleaned_crime_rate_by_nationality.xlsx'\n",
    "df = pd.read_excel(data_path)\n",
    "\n",
    "# === 2. Create DiD interaction variable ===\n",
    "df['T'] = (df['group'] == 'Foreigner').astype(int)\n",
    "df['P'] = (df['year'] >= 2016).astype(int)\n",
    "df['T_P'] = df['T'] * df['P']  # interaction term\n",
    "\n",
    "# === 3. Run regression with group and year fixed effects ===\n",
    "model = smf.ols(\"crime_rate ~ T_P + C(group) + C(year)\", data=df).fit()\n",
    "\n",
    "# === 4. Display results ===\n",
    "print(model.summary())"
   ]
  },
  {
   "cell_type": "code",
   "execution_count": null,
   "id": "98ee2c6c-5195-4d42-ac3b-980e8f6dd165",
   "metadata": {},
   "outputs": [],
   "source": []
  }
 ],
 "metadata": {
  "kernelspec": {
   "display_name": "Python 3 (ipykernel)",
   "language": "python",
   "name": "python3"
  },
  "language_info": {
   "codemirror_mode": {
    "name": "ipython",
    "version": 3
   },
   "file_extension": ".py",
   "mimetype": "text/x-python",
   "name": "python",
   "nbconvert_exporter": "python",
   "pygments_lexer": "ipython3",
   "version": "3.12.0"
  }
 },
 "nbformat": 4,
 "nbformat_minor": 5
}

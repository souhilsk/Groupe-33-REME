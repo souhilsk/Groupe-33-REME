{
 "cells": [
  {
   "cell_type": "code",
   "execution_count": 9,
   "id": "54beba05-5082-4d30-ba98-0e40e26ddf6f",
   "metadata": {},
   "outputs": [
    {
     "name": "stdout",
     "output_type": "stream",
     "text": [
      "✅ Cleaned dataset with crime rates saved to:\n",
      "/Users/souhil/Desktop/Courses/Recherche Empirique/Data/cleaned_crime_rate_by_nationality.xlsx\n"
     ]
    }
   ],
   "source": [
    "import pandas as pd\n",
    "\n",
    "# === 1. Load population data ===\n",
    "population_path = '/Users/souhil/Desktop/Courses/Recherche Empirique/Data/PopulationCount.csv'\n",
    "pop_df = pd.read_csv(population_path)\n",
    "\n",
    "# Filter total (SEX = 'T') and only Swiss ('CH') or Foreigners ('F')\n",
    "pop_df = pop_df[(pop_df[\"SEX\"] == \"T\") & (pop_df[\"CITIZENSHIP_CATEGORY\"].isin([\"CH\", \"F\"]))]\n",
    "\n",
    "# Map to group names\n",
    "group_map = {\"CH\": \"Swiss\", \"F\": \"Foreigner\"}\n",
    "pop_df[\"group\"] = pop_df[\"CITIZENSHIP_CATEGORY\"].map(group_map)\n",
    "\n",
    "# Keep relevant columns\n",
    "pop_df = pop_df.rename(columns={\"YEAR\": \"year\", \"VALUE\": \"population\"})\n",
    "pop_df = pop_df[[\"year\", \"group\", \"population\"]]\n",
    "\n",
    "# === 2. Load and clean crime count data ===\n",
    "crime_path = '/Users/souhil/Desktop/Courses/Recherche Empirique/Data/Crime of violence by nationality.xlsx'\n",
    "xls = pd.ExcelFile(crime_path)\n",
    "sheet_names = xls.sheet_names\n",
    "\n",
    "crime_data = []\n",
    "\n",
    "for year in sheet_names:\n",
    "    try:\n",
    "        df_raw = xls.parse(year, header=None)\n",
    "        row = df_raw.iloc[6]\n",
    "\n",
    "        swiss_count = pd.to_numeric(row[16], errors='coerce')\n",
    "        foreigner_count = pd.to_numeric(row[17], errors='coerce')\n",
    "\n",
    "        crime_data.append({'year': int(year), 'group': 'Swiss', 'crime_count': swiss_count})\n",
    "        crime_data.append({'year': int(year), 'group': 'Foreigner', 'crime_count': foreigner_count})\n",
    "    except Exception as e:\n",
    "        print(f\"Error processing year {year}: {e}\")\n",
    "\n",
    "df_crime = pd.DataFrame(crime_data)\n",
    "\n",
    "# === 3. Merge with population and calculate crime rate ===\n",
    "df_merged = df_crime.merge(pop_df, on=['year', 'group'], how='left')\n",
    "\n",
    "# Calculate crime rate per 100,000 people\n",
    "df_merged['crime_rate'] = (df_merged['crime_count'] / df_merged['population']) * 100000\n",
    "\n",
    "# === 4. Save cleaned dataset ===\n",
    "output_path = '/Users/souhil/Desktop/Courses/Recherche Empirique/Data/cleaned_crime_rate_by_nationality.xlsx'\n",
    "df_merged.to_excel(output_path, index=False)\n",
    "\n",
    "print(\"✅ Cleaned dataset with crime rates saved to:\")\n",
    "print(output_path)\n"
   ]
  },
  {
   "cell_type": "code",
   "execution_count": null,
   "id": "963d2290-4785-4656-ac16-d7008595d6cf",
   "metadata": {},
   "outputs": [],
   "source": []
  }
 ],
 "metadata": {
  "kernelspec": {
   "display_name": "Python 3 (ipykernel)",
   "language": "python",
   "name": "python3"
  },
  "language_info": {
   "codemirror_mode": {
    "name": "ipython",
    "version": 3
   },
   "file_extension": ".py",
   "mimetype": "text/x-python",
   "name": "python",
   "nbconvert_exporter": "python",
   "pygments_lexer": "ipython3",
   "version": "3.12.0"
  }
 },
 "nbformat": 4,
 "nbformat_minor": 5
}

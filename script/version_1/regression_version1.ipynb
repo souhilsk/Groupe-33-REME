{
 "cells": [
  {
   "cell_type": "code",
   "execution_count": 18,
   "id": "93f2fcd1-4479-402d-bd18-4e5b6bf69c7f",
   "metadata": {},
   "outputs": [
    {
     "name": "stdout",
     "output_type": "stream",
     "text": [
      "                            OLS Regression Results                            \n",
      "==============================================================================\n",
      "Dep. Variable:             crime_rate   R-squared:                       0.990\n",
      "Model:                            OLS   Adj. R-squared:                  0.989\n",
      "Method:                 Least Squares   F-statistic:                     905.7\n",
      "Date:                Mon, 21 Apr 2025   Prob (F-statistic):           5.69e-28\n",
      "Time:                        15:28:23   Log-Likelihood:                -110.35\n",
      "No. Observations:                  32   AIC:                             228.7\n",
      "Df Residuals:                      28   BIC:                             234.6\n",
      "Df Model:                           3                                         \n",
      "Covariance Type:            nonrobust                                         \n",
      "==============================================================================\n",
      "                 coef    std err          t      P>|t|      [0.025      0.975]\n",
      "------------------------------------------------------------------------------\n",
      "Intercept     59.2689      2.876     20.607      0.000      53.377      65.160\n",
      "T            164.4392      4.068     40.427      0.000     156.107     172.771\n",
      "P             -3.0251      4.068     -0.744      0.463     -11.357       5.307\n",
      "T_P          -33.5595      5.752     -5.834      0.000     -45.343     -21.776\n",
      "==============================================================================\n",
      "Omnibus:                       12.787   Durbin-Watson:                   1.702\n",
      "Prob(Omnibus):                  0.002   Jarque-Bera (JB):               23.372\n",
      "Skew:                          -0.730   Prob(JB):                     8.41e-06\n",
      "Kurtosis:                       6.924   Cond. No.                         6.85\n",
      "==============================================================================\n",
      "\n",
      "Notes:\n",
      "[1] Standard Errors assume that the covariance matrix of the errors is correctly specified.\n"
     ]
    }
   ],
   "source": [
    "import pandas as pd\n",
    "import statsmodels.formula.api as smf\n",
    "\n",
    "# === 1. Load cleaned crime rate dataset ===\n",
    "data_path = '/Users/souhil/Desktop/Courses/Recherche Empirique/Data/cleaned_crime_rate_by_nationality.xlsx'\n",
    "df = pd.read_excel(data_path)\n",
    "\n",
    "# === 2. Create DiD variables ===\n",
    "\n",
    "# Treatment group: 1 for Foreigners, 0 for Swiss\n",
    "df['T'] = (df['group'] == 'Foreigner').astype(int)\n",
    "\n",
    "# Post-treatment period: 1 if year >= 2016\n",
    "df['P'] = (df['year'] >= 2016).astype(int)\n",
    "\n",
    "# Interaction term: T × P\n",
    "df['T_P'] = df['T'] * df['P']\n",
    "\n",
    "# === 3. Run the DiD regression ===\n",
    "model = smf.ols(\"crime_rate ~ T + P + T_P\", data=df).fit()\n",
    "\n",
    "# === 4. Display results ===\n",
    "print(model.summary())"
   ]
  },
  {
   "cell_type": "code",
   "execution_count": null,
   "id": "58cd38cc-bdd3-44c3-b455-60cbfc06d948",
   "metadata": {},
   "outputs": [],
   "source": []
  }
 ],
 "metadata": {
  "kernelspec": {
   "display_name": "Python 3 (ipykernel)",
   "language": "python",
   "name": "python3"
  },
  "language_info": {
   "codemirror_mode": {
    "name": "ipython",
    "version": 3
   },
   "file_extension": ".py",
   "mimetype": "text/x-python",
   "name": "python",
   "nbconvert_exporter": "python",
   "pygments_lexer": "ipython3",
   "version": "3.12.0"
  }
 },
 "nbformat": 4,
 "nbformat_minor": 5
}

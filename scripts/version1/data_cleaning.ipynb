{
 "cells": [
  {
   "cell_type": "code",
   "execution_count": 5,
   "id": "54beba05-5082-4d30-ba98-0e40e26ddf6f",
   "metadata": {},
   "outputs": [
    {
     "name": "stdout",
     "output_type": "stream",
     "text": [
      "    year      group  crime_count\n",
      "0   2023      Swiss         3310\n",
      "1   2023  Foreigner         4133\n",
      "2   2022      Swiss         3784\n",
      "3   2022  Foreigner         4201\n",
      "4   2021      Swiss         3745\n",
      "5   2021  Foreigner         4261\n",
      "6   2020      Swiss         3661\n",
      "7   2020  Foreigner         4115\n",
      "8   2019      Swiss         3551\n",
      "9   2019  Foreigner         4106\n",
      "10  2018      Swiss         3635\n",
      "11  2018  Foreigner         3974\n",
      "12  2017      Swiss         3605\n",
      "13  2017  Foreigner         4216\n",
      "14  2016      Swiss         3680\n",
      "15  2016  Foreigner         4098\n",
      "16  2015      Swiss         3748\n",
      "17  2015  Foreigner         4047\n",
      "18  2014      Swiss         3634\n",
      "19  2014  Foreigner         4393\n",
      "20  2013      Swiss         3894\n",
      "21  2013  Foreigner         4712\n",
      "22  2012      Swiss         3829\n",
      "23  2012  Foreigner         4448\n",
      "24  2011      Swiss         3537\n",
      "25  2011  Foreigner         4064\n",
      "26  2010      Swiss         3514\n",
      "27  2010  Foreigner         3964\n",
      "28  2009      Swiss         3590\n",
      "29  2009  Foreigner         3828\n",
      "30  2008      Swiss         3441\n",
      "31  2008  Foreigner         3668\n"
     ]
    }
   ],
   "source": [
    "import pandas as pd\n",
    "# Load the Excel file to explore its content\n",
    "excel_path = '/Users/souhil/Desktop/Courses/Recherche Empirique/Data/Crime of violence by nationality.xlsx'\n",
    "xls = pd.ExcelFile(excel_path)\n",
    "sheet_names = xls.sheet_names\n",
    "sheet_names\n",
    "\n",
    "\n",
    "# Initialize empty list to store yearly nationality-level crime data\n",
    "nationality_crime_data = []\n",
    "\n",
    "for year in sheet_names:\n",
    "    df_raw = xls.parse(year, header=None)\n",
    "\n",
    "    try:\n",
    "        # Extract row 6 (index 6) where nationality counts are\n",
    "        row = df_raw.iloc[6]\n",
    "        swiss = pd.to_numeric(row[16], errors='coerce')\n",
    "        foreigner = pd.to_numeric(row[17], errors='coerce')\n",
    "\n",
    "        # Append both entries\n",
    "        nationality_crime_data.append({'year': int(year), 'group': 'Swiss', 'crime_count': swiss})\n",
    "        nationality_crime_data.append({'year': int(year), 'group': 'Foreigner', 'crime_count': foreigner})\n",
    "    except Exception as e:\n",
    "        print(f\"Failed to process year {year}: {e}\")\n",
    "\n",
    "# Create final cleaned DataFrame\n",
    "df_crime = pd.DataFrame(nationality_crime_data)\n",
    "print(df_crime.head(50))\n"
   ]
  },
  {
   "cell_type": "code",
   "execution_count": null,
   "id": "963d2290-4785-4656-ac16-d7008595d6cf",
   "metadata": {},
   "outputs": [],
   "source": []
  }
 ],
 "metadata": {
  "kernelspec": {
   "display_name": "Python 3 (ipykernel)",
   "language": "python",
   "name": "python3"
  },
  "language_info": {
   "codemirror_mode": {
    "name": "ipython",
    "version": 3
   },
   "file_extension": ".py",
   "mimetype": "text/x-python",
   "name": "python",
   "nbconvert_exporter": "python",
   "pygments_lexer": "ipython3",
   "version": "3.12.0"
  }
 },
 "nbformat": 4,
 "nbformat_minor": 5
}

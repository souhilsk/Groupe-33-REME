{
 "cells": [
  {
   "cell_type": "code",
   "execution_count": 15,
   "id": "93f2fcd1-4479-402d-bd18-4e5b6bf69c7f",
   "metadata": {},
   "outputs": [],
   "source": [
    "import pandas as pd\n",
    "import statsmodels.formula.api as smf\n",
    "\n",
    "excel_path = '/Users/souhil/Desktop/Courses/Recherche Empirique/Data/cleaned_crime_by_nationality.xlsx'"
   ]
  },
  {
   "cell_type": "code",
   "execution_count": 16,
   "id": "c7767a1b-164a-4295-b26d-e06d29db171c",
   "metadata": {},
   "outputs": [
    {
     "name": "stdout",
     "output_type": "stream",
     "text": [
      "                            OLS Regression Results                            \n",
      "==============================================================================\n",
      "Dep. Variable:            crime_count   R-squared:                       0.623\n",
      "Model:                            OLS   Adj. R-squared:                  0.582\n",
      "Method:                 Least Squares   F-statistic:                     15.39\n",
      "Date:                Mon, 21 Apr 2025   Prob (F-statistic):           4.16e-06\n",
      "Time:                        14:49:31   Log-Likelihood:                -214.39\n",
      "No. Observations:                  32   AIC:                             436.8\n",
      "Df Residuals:                      28   BIC:                             442.6\n",
      "Df Model:                           3                                         \n",
      "Covariance Type:            nonrobust                                         \n",
      "==============================================================================\n",
      "                 coef    std err          t      P>|t|      [0.025      0.975]\n",
      "------------------------------------------------------------------------------\n",
      "Intercept   3648.3750     74.279     49.117      0.000    3496.221    3800.529\n",
      "T            492.1250    105.047      4.685      0.000     276.946     707.304\n",
      "P            -27.0000    105.047     -0.257      0.799    -242.179     188.179\n",
      "T_P           24.5000    148.559      0.165      0.870    -279.808     328.808\n",
      "==============================================================================\n",
      "Omnibus:                        3.477   Durbin-Watson:                   0.789\n",
      "Prob(Omnibus):                  0.176   Jarque-Bera (JB):                2.267\n",
      "Skew:                           0.296   Prob(JB):                        0.322\n",
      "Kurtosis:                       4.162   Cond. No.                         6.85\n",
      "==============================================================================\n",
      "\n",
      "Notes:\n",
      "[1] Standard Errors assume that the covariance matrix of the errors is correctly specified.\n"
     ]
    }
   ],
   "source": [
    "df = pd.read_excel(excel_path)\n",
    "\n",
    "# Create treatment indicator T (1 for foreigners, 0 for Swiss)\n",
    "df['T'] = (df['group'] == 'Foreigner').astype(int)\n",
    "\n",
    "# Create post-treatment indicator P (1 for year >= 2016, 0 otherwise)\n",
    "df['P'] = (df['year'] >= 2016).astype(int)\n",
    "\n",
    "# Create interaction term T × P\n",
    "df['T_P'] = df['T'] * df['P']\n",
    "\n",
    "# Run OLS regression\n",
    "model = smf.ols(\"crime_count ~ T + P + T_P\", data=df).fit()\n",
    "\n",
    "# Display results\n",
    "print(model.summary())"
   ]
  },
  {
   "cell_type": "code",
   "execution_count": null,
   "id": "58cd38cc-bdd3-44c3-b455-60cbfc06d948",
   "metadata": {},
   "outputs": [],
   "source": []
  }
 ],
 "metadata": {
  "kernelspec": {
   "display_name": "Python 3 (ipykernel)",
   "language": "python",
   "name": "python3"
  },
  "language_info": {
   "codemirror_mode": {
    "name": "ipython",
    "version": 3
   },
   "file_extension": ".py",
   "mimetype": "text/x-python",
   "name": "python",
   "nbconvert_exporter": "python",
   "pygments_lexer": "ipython3",
   "version": "3.12.0"
  }
 },
 "nbformat": 4,
 "nbformat_minor": 5
}
